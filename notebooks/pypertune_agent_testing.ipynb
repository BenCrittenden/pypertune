{
 "cells": [
  {
   "cell_type": "markdown",
   "metadata": {},
   "source": [
    "# Test pypertune agents"
   ]
  },
  {
   "cell_type": "code",
   "execution_count": null,
   "metadata": {
    "scrolled": true,
    "tags": []
   },
   "outputs": [],
   "source": [
    "import pandas as pd\n",
    "import numpy as np\n",
    "\n",
    "from pypertune.environment import Environment\n",
    "from pypertune.genetic_algorithm import GeneticAlgorithm\n",
    "\n",
    "from sklearn.ensemble import (\n",
    "    RandomForestRegressor, \n",
    "    RandomForestClassifier,\n",
    ")"
   ]
  },
  {
   "cell_type": "markdown",
   "metadata": {},
   "source": [
    "### Load the data"
   ]
  },
  {
   "cell_type": "markdown",
   "metadata": {},
   "source": [
    "#### Earlwood pollution"
   ]
  },
  {
   "cell_type": "code",
   "execution_count": null,
   "metadata": {
    "tags": []
   },
   "outputs": [],
   "source": [
    "df = pd.read_csv('../data/airpollution/Earlwood_Air_Data_17_18.csv')\n",
    "df = df.dropna(axis=1, thresh=0.9).dropna()\n",
    "\n",
    "features = df.iloc[:, 2:]\n",
    "target = features.pop('EARLWOOD PM10 1h average [µg/m³]')\n",
    "\n",
    "features = features.values\n",
    "target = target.values"
   ]
  },
  {
   "cell_type": "code",
   "execution_count": null,
   "metadata": {
    "tags": []
   },
   "outputs": [],
   "source": [
    "env = Environment(features, target, RandomForestRegressor,\n",
    "                  {'max_depth': {'min': 2, 'max': int(np.log2(features.shape[0])), 'type': 'int'},\n",
    "                   'min_samples_leaf': {'min': 10, 'max': int(features.shape[0] * 0.25), 'type': 'int'},\n",
    "                   'max_features': {'min': 1, 'max': features.shape[1], 'type': 'int'},\n",
    "                   'max_leaf_nodes': {'min': 2, 'max': int(features.shape[0] * 0.5), 'type': 'int'}})"
   ]
  },
  {
   "cell_type": "markdown",
   "metadata": {},
   "source": [
    "#### Otto"
   ]
  },
  {
   "cell_type": "code",
   "execution_count": null,
   "metadata": {},
   "outputs": [],
   "source": [
    "df = pd.read_csv('../data/otto/train.csv')\n",
    "\n",
    "features = df.drop(columns=['id'])\n",
    "target = features.pop('target')\n",
    "\n",
    "features = features.values\n",
    "target = pd.factorize(target)[0] + 1"
   ]
  },
  {
   "cell_type": "code",
   "execution_count": null,
   "metadata": {},
   "outputs": [],
   "source": [
    "env = Environment(features, target, RandomForestClassifier,\n",
    "                  {'max_depth': {'min': 2, 'max': int(np.log2(features.shape[0])), 'type': 'int'},\n",
    "                   'min_samples_leaf': {'min': 10, 'max': int(features.shape[0] * 0.25), 'type': 'int'},\n",
    "                   'max_features': {'min': 1, 'max': features.shape[1], 'type': 'int'},\n",
    "                   'max_leaf_nodes': {'min': 2, 'max': int(features.shape[0] * 0.5), 'type': 'int'}})"
   ]
  },
  {
   "cell_type": "markdown",
   "metadata": {},
   "source": [
    "## Testing Genetic Algorithm "
   ]
  },
  {
   "cell_type": "code",
   "execution_count": null,
   "metadata": {
    "tags": []
   },
   "outputs": [],
   "source": [
    "gen_algo = GeneticAlgorithm(env)"
   ]
  },
  {
   "cell_type": "code",
   "execution_count": null,
   "metadata": {
    "tags": []
   },
   "outputs": [],
   "source": [
    "gen_algo.learn()"
   ]
  },
  {
   "cell_type": "code",
   "execution_count": null,
   "metadata": {
    "scrolled": true,
    "tags": []
   },
   "outputs": [],
   "source": [
    "gen_algo.report()"
   ]
  },
  {
   "cell_type": "code",
   "execution_count": null,
   "metadata": {},
   "outputs": [],
   "source": []
  }
 ],
 "metadata": {
  "kernelspec": {
   "display_name": "Python 3 (ipykernel)",
   "language": "python",
   "name": "python3"
  },
  "language_info": {
   "codemirror_mode": {
    "name": "ipython",
    "version": 3
   },
   "file_extension": ".py",
   "mimetype": "text/x-python",
   "name": "python",
   "nbconvert_exporter": "python",
   "pygments_lexer": "ipython3",
   "version": "3.8.16"
  }
 },
 "nbformat": 4,
 "nbformat_minor": 4
}
